{
 "cells": [
  {
   "cell_type": "code",
   "execution_count": 74,
   "id": "6cad4c5f",
   "metadata": {},
   "outputs": [],
   "source": [
    "import os\n",
    "import joblib\n",
    "import numpy as np\n",
    "import pandas as pd\n",
    "import seaborn as sns\n",
    "import matplotlib.pyplot as plt\n",
    "\n",
    "from pathlib import Path\n",
    "from xgboost import XGBClassifier\n",
    "from lightgbm import LGBMClassifier\n",
    "from imblearn.over_sampling import SMOTE\n",
    "from sklearn.ensemble import RandomForestClassifier\n",
    "from sklearn.model_selection import train_test_split\n",
    "from sklearn.feature_selection import SelectFromModel\n",
    "from sklearn.ensemble import HistGradientBoostingClassifier\n",
    "from sklearn.preprocessing import LabelEncoder, StandardScaler\n",
    "from sklearn.metrics import classification_report, confusion_matrix"
   ]
  },
  {
   "cell_type": "code",
   "execution_count": 75,
   "id": "e7f526c4",
   "metadata": {},
   "outputs": [],
   "source": [
    "os.environ[\"LOKY_MAX_CPU_COUNT\"] = \"10\""
   ]
  },
  {
   "cell_type": "code",
   "execution_count": 76,
   "id": "c6c42ad2",
   "metadata": {},
   "outputs": [],
   "source": [
    "DATA_PATH = Path(\"Data/dataset.csv\")\n",
    "df = pd.read_csv(DATA_PATH, low_memory=False)"
   ]
  },
  {
   "cell_type": "code",
   "execution_count": 77,
   "id": "7346426b",
   "metadata": {},
   "outputs": [],
   "source": [
    "df = df[df[\"grav\"].notna()]\n",
    "df = df[df[\"an_nais\"].between(1920, 2023)]\n",
    "df[\"age\"] = df[\"year\"] - df[\"an_nais\"]"
   ]
  },
  {
   "cell_type": "code",
   "execution_count": 78,
   "id": "3508df2d",
   "metadata": {},
   "outputs": [],
   "source": [
    "df[\"catv\"] = df[\"catv\"].replace({\n",
    "    \"Motocyclette\": \"2RM\",\n",
    "    \"Scooter_125_cm3\": \"2RM\",\n",
    "    \"Moto_125_cm3\": \"2RM\",\n",
    "    \"Vélo\": \"Vélo\",\n",
    "    \"Voiture\": \"VP\",\n",
    "    \"Quad léger\": \"Quad\",\n",
    "    \"Fourgon\": \"Utilitaire\",\n",
    "    \"Poids lourd 3.5t à 7.5t\": \"PL\",\n",
    "    \"Poids lourd > 7.5t\": \"PL\",\n",
    "    \"Tracteur routier\": \"PL\",\n",
    "    \"Autobus\": \"Transport\",\n",
    "    \"Autocar\": \"Transport\",\n",
    "    \"Engin spécial\": \"Spécial\",\n",
    "    \"Tramway\": \"Spécial\"\n",
    "})"
   ]
  },
  {
   "cell_type": "code",
   "execution_count": 79,
   "id": "3a46d61b",
   "metadata": {},
   "outputs": [],
   "source": [
    "cols_to_drop = [\n",
    "    \"Num_Acc\", \"id_usager\", \"id_vehicule\", \"num_veh_x\", \"num_veh_y\", \"adr\",\n",
    "    \"lat\", \"long\", \"v1\", \"v2\", \"voie\", \"pr\", \"pr1\", \"motor\", \"occutc\", \"hrmn\"\n",
    "]\n",
    "df.drop(columns=[col for col in cols_to_drop if col in df.columns], inplace=True)"
   ]
  },
  {
   "cell_type": "code",
   "execution_count": 80,
   "id": "9def1fa1",
   "metadata": {},
   "outputs": [],
   "source": [
    "def group_rare_modalities(series, threshold=50):\n",
    "    counts = series.value_counts()\n",
    "    rare = counts[counts < threshold].index\n",
    "    return series.apply(lambda x: \"Autre\" if x in rare else x)\n",
    "\n",
    "categorical_cols = df.select_dtypes(include=\"object\").columns\n",
    "for col in categorical_cols:\n",
    "    df[col] = group_rare_modalities(df[col], threshold=50)"
   ]
  },
  {
   "cell_type": "code",
   "execution_count": 81,
   "id": "09a69d76",
   "metadata": {},
   "outputs": [],
   "source": [
    "selected_cols = [\n",
    "    \"sexe\", \"catu\", \"catv\", \"atm\", \"lum\", \"col\", \"choc\",\n",
    "    \"manv\", \"plan\", \"surf\", \"nbv\", \"secu1\", \"infra\", \"place\", \"age\"\n",
    "]\n",
    "\n",
    "X = df[selected_cols]\n",
    "y = df[\"grav\"]\n",
    "\n",
    "le = LabelEncoder()\n",
    "y_encoded = le.fit_transform(y)\n",
    "\n",
    "value_counts = pd.Series(y_encoded).value_counts()\n",
    "valid_classes = value_counts[value_counts >= 2].index\n",
    "mask = np.isin(y_encoded, valid_classes)\n",
    "\n",
    "X = X.iloc[mask].reset_index(drop=True)\n",
    "y_encoded = y_encoded[mask]\n",
    "\n",
    "le = LabelEncoder()\n",
    "y_encoded = le.fit_transform(y_encoded)\n",
    "\n",
    "\n",
    "X_encoded = pd.get_dummies(X.astype(str), drop_first=True)\n",
    "X_encoded = X_encoded.astype(float)\n",
    "X_encoded = X_encoded.loc[:, ~X_encoded.columns.duplicated()]\n",
    "X_encoded.columns = (\n",
    "    X_encoded.columns\n",
    "    .str.replace(r\"[\\[\\]<>\\\"'{}:|,=]\", \"\", regex=True)\n",
    "    .str.replace(r\"\\\\s+\", \"_\", regex=True)\n",
    "    .str.replace(r\"[^0-9a-zA-Z_]\", \"\", regex=True)\n",
    ")"
   ]
  },
  {
   "cell_type": "code",
   "execution_count": 82,
   "id": "72dae684",
   "metadata": {},
   "outputs": [],
   "source": [
    "if \"age\" in X_encoded.columns:\n",
    "    scaler = StandardScaler()\n",
    "    X_encoded[[\"age\"]] = scaler.fit_transform(X_encoded[[\"age\"]])"
   ]
  },
  {
   "cell_type": "code",
   "execution_count": 83,
   "id": "bc844139",
   "metadata": {},
   "outputs": [],
   "source": [
    "y_binary = (y_encoded == 3).astype(int)\n",
    "\n",
    "X_train, X_test, y_train, y_test = train_test_split(\n",
    "    X_encoded, y_encoded, test_size=0.2, stratify=y_encoded, random_state=42\n",
    ")\n",
    "smote = SMOTE(sampling_strategy={3: 30000}, random_state=42)\n",
    "X_train_res, y_train_res = smote.fit_resample(X_train, y_train)"
   ]
  },
  {
   "cell_type": "code",
   "execution_count": 84,
   "id": "9f426850",
   "metadata": {},
   "outputs": [],
   "source": [
    "X_train_res = pd.DataFrame(X_train_res.values.astype(np.float32), columns=X_train_res.columns)\n",
    "X_test = pd.DataFrame(X_test.values.astype(np.float32), columns=X_test.columns)"
   ]
  },
  {
   "cell_type": "code",
   "execution_count": 85,
   "id": "6253f02b",
   "metadata": {},
   "outputs": [
    {
     "name": "stdout",
     "output_type": "stream",
     "text": [
      "              precision    recall  f1-score   support\n",
      "\n",
      "           0       0.49      0.22      0.31     19966\n",
      "           1       0.61      0.64      0.62     52472\n",
      "           2       0.68      0.82      0.74     53818\n",
      "           3       0.38      0.05      0.09      3385\n",
      "\n",
      "    accuracy                           0.63    129641\n",
      "   macro avg       0.54      0.43      0.44    129641\n",
      "weighted avg       0.61      0.63      0.61    129641\n",
      "\n"
     ]
    },
    {
     "data": {
      "image/png": "[encoded data removed]",
      "text/plain": [
       "<Figure size 640x480 with 2 Axes>"
      ]
     },
     "metadata": {},
     "output_type": "display_data"
    },
    {
     "name": "stdout",
     "output_type": "stream",
     "text": [
      "Faux négatifs pour la classe 3 : 3212\n",
      "Bons positifs pour la classe 3 : 173\n"
     ]
    }
   ],
   "source": [
    "model = XGBClassifier(random_state=42)\n",
    "model.fit(X_train_res.values.astype(np.float32), y_train_res)\n",
    "y_pred = model.predict(X_test.values.astype(np.float32))\n",
    "print(classification_report(y_test, y_pred))\n",
    "\n",
    "cm = confusion_matrix(y_test, y_pred)\n",
    "sns.heatmap(cm, annot=True, fmt=\"d\", cmap=\"Blues\")\n",
    "plt.title(f\"Matrice de confusion\")\n",
    "plt.xlabel(\"Prédit\")\n",
    "plt.ylabel(\"Réel\")\n",
    "plt.show()\n",
    "\n",
    "df_eval = pd.DataFrame({\n",
    "    \"y_true\": y_test,\n",
    "    \"y_pred\": y_pred\n",
    "})\n",
    "\n",
    "false_neg_3 = df_eval[(df_eval[\"y_true\"] == 3) & (df_eval[\"y_pred\"] != 3)]\n",
    "true_pos_3 = df_eval[(df_eval[\"y_true\"] == 3) & (df_eval[\"y_pred\"] == 3)]\n",
    "\n",
    "print(f\"Faux négatifs pour la classe 3 : {len(false_neg_3)}\")\n",
    "print(f\"Bons positifs pour la classe 3 : {len(true_pos_3)}\")"
   ]
  },
  {
   "cell_type": "code",
   "execution_count": 86,
   "id": "5d23e508",
   "metadata": {},
   "outputs": [
    {
     "data": {
      "text/plain": [
       "['Models/XGB/label_encoder.pkl']"
      ]
     },
     "execution_count": 86,
     "metadata": {},
     "output_type": "execute_result"
    }
   ],
   "source": [
    "Path(\"Models/XGB\").mkdir(parents=True, exist_ok=True)\n",
    "\n",
    "joblib.dump(model, \"Models/XGB/xgb_model.pkl\")\n",
    "joblib.dump(le, \"Models/XGB/label_encoder.pkl\")"
   ]
  }
 ],
 "metadata": {
  "kernelspec": {
   "display_name": "torch_env",
   "language": "python",
   "name": "python3"
  },
  "language_info": {
   "codemirror_mode": {
    "name": "ipython",
    "version": 3
   },
   "file_extension": ".py",
   "mimetype": "text/x-python",
   "name": "python",
   "nbconvert_exporter": "python",
   "pygments_lexer": "ipython3",
   "version": "3.10.16"
  }
 },
 "nbformat": 4,
 "nbformat_minor": 5
}
